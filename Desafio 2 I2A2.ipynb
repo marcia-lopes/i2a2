{
  "cells": [
    {
      "cell_type": "markdown",
      "id": "ae2cddce",
      "metadata": {
        "id": "ae2cddce"
      },
      "source": [
        "# Phase 1 - Business Understanding"
      ]
    },
    {
      "cell_type": "markdown",
      "id": "fdddcb9f",
      "metadata": {
        "id": "fdddcb9f"
      },
      "source": [
        "Background:\tTitanic shipwreck with - On April 15, 1912, during her maiden voyage, the widely considered “unsinkable” RMS Titanic sank after colliding with an iceberg. Unfortunately, there weren’t enough lifeboats for everyone onboard, resulting in the death of 1502 out of 2224 passengers and crew.\n",
        "\n",
        "Objectives: Predict passanger survival \n",
        "\n",
        "Analytical Objectif: Classify passangers in two classes: Survival and Death\n",
        "\n",
        "Success Criteria: Accuracy of 80 %\n",
        "\n",
        "Hypothesis: - Survival depends on economic factors\n",
        "            - Survival depends on gender\n",
        "            - Survival depends on age \n"
      ]
    },
    {
      "cell_type": "markdown",
      "id": "e77ea12c",
      "metadata": {
        "id": "e77ea12c"
      },
      "source": [
        "# Phase 2 - Data Understanding"
      ]
    },
    {
      "cell_type": "markdown",
      "source": [
        "**Importing Libraries**"
      ],
      "metadata": {
        "id": "9N-SItZwjaev"
      },
      "id": "9N-SItZwjaev"
    },
    {
      "cell_type": "code",
      "execution_count": 123,
      "id": "234d1f9d",
      "metadata": {
        "id": "234d1f9d"
      },
      "outputs": [],
      "source": [
        "import pandas as pd"
      ]
    },
    {
      "cell_type": "code",
      "execution_count": 72,
      "id": "b03e9179",
      "metadata": {
        "id": "b03e9179"
      },
      "outputs": [],
      "source": [
        "import numpy as np"
      ]
    },
    {
      "cell_type": "code",
      "execution_count": 73,
      "id": "9848dc5a",
      "metadata": {
        "scrolled": true,
        "id": "9848dc5a"
      },
      "outputs": [],
      "source": [
        "import matplotlib.pyplot as plt"
      ]
    },
    {
      "cell_type": "code",
      "execution_count": 74,
      "id": "62aa2f16",
      "metadata": {
        "id": "62aa2f16"
      },
      "outputs": [],
      "source": [
        "import seaborn as sns"
      ]
    },
    {
      "cell_type": "code",
      "execution_count": 75,
      "id": "3ea3a4b7",
      "metadata": {
        "id": "3ea3a4b7"
      },
      "outputs": [],
      "source": [
        "import sklearn as sk"
      ]
    },
    {
      "cell_type": "code",
      "execution_count": 76,
      "id": "5984b6f7",
      "metadata": {
        "id": "5984b6f7"
      },
      "outputs": [],
      "source": [
        "import tensorflow as tf"
      ]
    },
    {
      "cell_type": "code",
      "execution_count": 77,
      "id": "6f176f70",
      "metadata": {
        "id": "6f176f70"
      },
      "outputs": [],
      "source": [
        "from tensorflow import keras"
      ]
    },
    {
      "cell_type": "code",
      "execution_count": 78,
      "id": "47ac929c",
      "metadata": {
        "id": "47ac929c"
      },
      "outputs": [],
      "source": [
        "import sklearn as sk"
      ]
    },
    {
      "cell_type": "markdown",
      "id": "c90c22e7",
      "metadata": {
        "id": "c90c22e7"
      },
      "source": [
        "**Importing dataset**"
      ]
    },
    {
      "cell_type": "code",
      "execution_count": 79,
      "id": "7251d1f3",
      "metadata": {
        "id": "7251d1f3"
      },
      "outputs": [],
      "source": [
        "df_train = pd.read_excel('train.xlsx')\n"
      ]
    },
    {
      "cell_type": "code",
      "execution_count": 80,
      "id": "6bc343bf",
      "metadata": {
        "colab": {
          "base_uri": "https://localhost:8080/",
          "height": 563
        },
        "id": "6bc343bf",
        "outputId": "910b1078-c067-488d-ccaa-37528d929263"
      },
      "outputs": [
        {
          "output_type": "execute_result",
          "data": {
            "text/html": [
              "\n",
              "  <div id=\"df-f9fedaa6-2732-41c9-9aa0-52948101b024\">\n",
              "    <div class=\"colab-df-container\">\n",
              "      <div>\n",
              "<style scoped>\n",
              "    .dataframe tbody tr th:only-of-type {\n",
              "        vertical-align: middle;\n",
              "    }\n",
              "\n",
              "    .dataframe tbody tr th {\n",
              "        vertical-align: top;\n",
              "    }\n",
              "\n",
              "    .dataframe thead th {\n",
              "        text-align: right;\n",
              "    }\n",
              "</style>\n",
              "<table border=\"1\" class=\"dataframe\">\n",
              "  <thead>\n",
              "    <tr style=\"text-align: right;\">\n",
              "      <th></th>\n",
              "      <th>Kaggle_Pass_Id</th>\n",
              "      <th>pclass</th>\n",
              "      <th>survived</th>\n",
              "      <th>name</th>\n",
              "      <th>sex</th>\n",
              "      <th>age</th>\n",
              "      <th>sibsp</th>\n",
              "      <th>parch</th>\n",
              "      <th>ticket</th>\n",
              "      <th>fare</th>\n",
              "      <th>cabin</th>\n",
              "      <th>embarked</th>\n",
              "      <th>boat</th>\n",
              "      <th>body</th>\n",
              "      <th>home.dest</th>\n",
              "      <th>orig_seq</th>\n",
              "    </tr>\n",
              "  </thead>\n",
              "  <tbody>\n",
              "    <tr>\n",
              "      <th>0</th>\n",
              "      <td>1</td>\n",
              "      <td>3</td>\n",
              "      <td>0</td>\n",
              "      <td>Braund, Mr. Owen Harris</td>\n",
              "      <td>male</td>\n",
              "      <td>22.0</td>\n",
              "      <td>1</td>\n",
              "      <td>0</td>\n",
              "      <td>A/5 21171</td>\n",
              "      <td>7.2500</td>\n",
              "      <td>NaN</td>\n",
              "      <td>S</td>\n",
              "      <td>NaN</td>\n",
              "      <td>NaN</td>\n",
              "      <td>Bridgerule, Devon</td>\n",
              "      <td>690</td>\n",
              "    </tr>\n",
              "    <tr>\n",
              "      <th>1</th>\n",
              "      <td>2</td>\n",
              "      <td>1</td>\n",
              "      <td>1</td>\n",
              "      <td>Cumings, Mrs. John Bradley (Florence Briggs Th...</td>\n",
              "      <td>female</td>\n",
              "      <td>38.0</td>\n",
              "      <td>1</td>\n",
              "      <td>0</td>\n",
              "      <td>PC 17599</td>\n",
              "      <td>71.2833</td>\n",
              "      <td>C85</td>\n",
              "      <td>C</td>\n",
              "      <td>4</td>\n",
              "      <td>NaN</td>\n",
              "      <td>New York, NY</td>\n",
              "      <td>86</td>\n",
              "    </tr>\n",
              "    <tr>\n",
              "      <th>2</th>\n",
              "      <td>3</td>\n",
              "      <td>3</td>\n",
              "      <td>1</td>\n",
              "      <td>Heikkinen, Miss. Laina</td>\n",
              "      <td>female</td>\n",
              "      <td>26.0</td>\n",
              "      <td>0</td>\n",
              "      <td>0</td>\n",
              "      <td>STON/O2. 3101282</td>\n",
              "      <td>7.9250</td>\n",
              "      <td>NaN</td>\n",
              "      <td>S</td>\n",
              "      <td>NaN</td>\n",
              "      <td>NaN</td>\n",
              "      <td>NaN</td>\n",
              "      <td>861</td>\n",
              "    </tr>\n",
              "    <tr>\n",
              "      <th>3</th>\n",
              "      <td>4</td>\n",
              "      <td>1</td>\n",
              "      <td>1</td>\n",
              "      <td>Futrelle, Mrs. Jacques Heath (Lily May Peel)</td>\n",
              "      <td>female</td>\n",
              "      <td>35.0</td>\n",
              "      <td>1</td>\n",
              "      <td>0</td>\n",
              "      <td>113803</td>\n",
              "      <td>53.1000</td>\n",
              "      <td>C123</td>\n",
              "      <td>S</td>\n",
              "      <td>D</td>\n",
              "      <td>NaN</td>\n",
              "      <td>Scituate, MA</td>\n",
              "      <td>128</td>\n",
              "    </tr>\n",
              "    <tr>\n",
              "      <th>4</th>\n",
              "      <td>5</td>\n",
              "      <td>3</td>\n",
              "      <td>0</td>\n",
              "      <td>Allen, Mr. William Henry</td>\n",
              "      <td>male</td>\n",
              "      <td>35.0</td>\n",
              "      <td>0</td>\n",
              "      <td>0</td>\n",
              "      <td>373450</td>\n",
              "      <td>8.0500</td>\n",
              "      <td>NaN</td>\n",
              "      <td>S</td>\n",
              "      <td>NaN</td>\n",
              "      <td>NaN</td>\n",
              "      <td>Lower Clapton, Middlesex or Erdington, Birmingham</td>\n",
              "      <td>619</td>\n",
              "    </tr>\n",
              "    <tr>\n",
              "      <th>5</th>\n",
              "      <td>6</td>\n",
              "      <td>3</td>\n",
              "      <td>0</td>\n",
              "      <td>Moran, Mr. James</td>\n",
              "      <td>male</td>\n",
              "      <td>NaN</td>\n",
              "      <td>0</td>\n",
              "      <td>0</td>\n",
              "      <td>330877</td>\n",
              "      <td>8.4583</td>\n",
              "      <td>NaN</td>\n",
              "      <td>Q</td>\n",
              "      <td>NaN</td>\n",
              "      <td>NaN</td>\n",
              "      <td>NaN</td>\n",
              "      <td>1031</td>\n",
              "    </tr>\n",
              "    <tr>\n",
              "      <th>6</th>\n",
              "      <td>7</td>\n",
              "      <td>1</td>\n",
              "      <td>0</td>\n",
              "      <td>McCarthy, Mr. Timothy J</td>\n",
              "      <td>male</td>\n",
              "      <td>54.0</td>\n",
              "      <td>0</td>\n",
              "      <td>0</td>\n",
              "      <td>17463</td>\n",
              "      <td>51.8625</td>\n",
              "      <td>E46</td>\n",
              "      <td>S</td>\n",
              "      <td>NaN</td>\n",
              "      <td>175.0</td>\n",
              "      <td>Dorchester, MA</td>\n",
              "      <td>202</td>\n",
              "    </tr>\n",
              "    <tr>\n",
              "      <th>7</th>\n",
              "      <td>8</td>\n",
              "      <td>3</td>\n",
              "      <td>0</td>\n",
              "      <td>Palsson, Master. Gosta Leonard</td>\n",
              "      <td>male</td>\n",
              "      <td>2.0</td>\n",
              "      <td>3</td>\n",
              "      <td>1</td>\n",
              "      <td>349909</td>\n",
              "      <td>21.0750</td>\n",
              "      <td>NaN</td>\n",
              "      <td>S</td>\n",
              "      <td>NaN</td>\n",
              "      <td>4.0</td>\n",
              "      <td>NaN</td>\n",
              "      <td>1097</td>\n",
              "    </tr>\n",
              "    <tr>\n",
              "      <th>8</th>\n",
              "      <td>9</td>\n",
              "      <td>3</td>\n",
              "      <td>1</td>\n",
              "      <td>Johnson, Mrs. Oscar W (Elisabeth Vilhelmina Berg)</td>\n",
              "      <td>female</td>\n",
              "      <td>27.0</td>\n",
              "      <td>0</td>\n",
              "      <td>2</td>\n",
              "      <td>347742</td>\n",
              "      <td>11.1333</td>\n",
              "      <td>NaN</td>\n",
              "      <td>S</td>\n",
              "      <td>15</td>\n",
              "      <td>NaN</td>\n",
              "      <td>NaN</td>\n",
              "      <td>900</td>\n",
              "    </tr>\n",
              "    <tr>\n",
              "      <th>9</th>\n",
              "      <td>10</td>\n",
              "      <td>2</td>\n",
              "      <td>1</td>\n",
              "      <td>Nasser, Mrs. Nicholas (Adele Achem)</td>\n",
              "      <td>female</td>\n",
              "      <td>14.0</td>\n",
              "      <td>1</td>\n",
              "      <td>0</td>\n",
              "      <td>237736</td>\n",
              "      <td>30.0708</td>\n",
              "      <td>NaN</td>\n",
              "      <td>C</td>\n",
              "      <td>NaN</td>\n",
              "      <td>NaN</td>\n",
              "      <td>New York, NY</td>\n",
              "      <td>514</td>\n",
              "    </tr>\n",
              "  </tbody>\n",
              "</table>\n",
              "</div>\n",
              "      <button class=\"colab-df-convert\" onclick=\"convertToInteractive('df-f9fedaa6-2732-41c9-9aa0-52948101b024')\"\n",
              "              title=\"Convert this dataframe to an interactive table.\"\n",
              "              style=\"display:none;\">\n",
              "        \n",
              "  <svg xmlns=\"http://www.w3.org/2000/svg\" height=\"24px\"viewBox=\"0 0 24 24\"\n",
              "       width=\"24px\">\n",
              "    <path d=\"M0 0h24v24H0V0z\" fill=\"none\"/>\n",
              "    <path d=\"M18.56 5.44l.94 2.06.94-2.06 2.06-.94-2.06-.94-.94-2.06-.94 2.06-2.06.94zm-11 1L8.5 8.5l.94-2.06 2.06-.94-2.06-.94L8.5 2.5l-.94 2.06-2.06.94zm10 10l.94 2.06.94-2.06 2.06-.94-2.06-.94-.94-2.06-.94 2.06-2.06.94z\"/><path d=\"M17.41 7.96l-1.37-1.37c-.4-.4-.92-.59-1.43-.59-.52 0-1.04.2-1.43.59L10.3 9.45l-7.72 7.72c-.78.78-.78 2.05 0 2.83L4 21.41c.39.39.9.59 1.41.59.51 0 1.02-.2 1.41-.59l7.78-7.78 2.81-2.81c.8-.78.8-2.07 0-2.86zM5.41 20L4 18.59l7.72-7.72 1.47 1.35L5.41 20z\"/>\n",
              "  </svg>\n",
              "      </button>\n",
              "      \n",
              "  <style>\n",
              "    .colab-df-container {\n",
              "      display:flex;\n",
              "      flex-wrap:wrap;\n",
              "      gap: 12px;\n",
              "    }\n",
              "\n",
              "    .colab-df-convert {\n",
              "      background-color: #E8F0FE;\n",
              "      border: none;\n",
              "      border-radius: 50%;\n",
              "      cursor: pointer;\n",
              "      display: none;\n",
              "      fill: #1967D2;\n",
              "      height: 32px;\n",
              "      padding: 0 0 0 0;\n",
              "      width: 32px;\n",
              "    }\n",
              "\n",
              "    .colab-df-convert:hover {\n",
              "      background-color: #E2EBFA;\n",
              "      box-shadow: 0px 1px 2px rgba(60, 64, 67, 0.3), 0px 1px 3px 1px rgba(60, 64, 67, 0.15);\n",
              "      fill: #174EA6;\n",
              "    }\n",
              "\n",
              "    [theme=dark] .colab-df-convert {\n",
              "      background-color: #3B4455;\n",
              "      fill: #D2E3FC;\n",
              "    }\n",
              "\n",
              "    [theme=dark] .colab-df-convert:hover {\n",
              "      background-color: #434B5C;\n",
              "      box-shadow: 0px 1px 3px 1px rgba(0, 0, 0, 0.15);\n",
              "      filter: drop-shadow(0px 1px 2px rgba(0, 0, 0, 0.3));\n",
              "      fill: #FFFFFF;\n",
              "    }\n",
              "  </style>\n",
              "\n",
              "      <script>\n",
              "        const buttonEl =\n",
              "          document.querySelector('#df-f9fedaa6-2732-41c9-9aa0-52948101b024 button.colab-df-convert');\n",
              "        buttonEl.style.display =\n",
              "          google.colab.kernel.accessAllowed ? 'block' : 'none';\n",
              "\n",
              "        async function convertToInteractive(key) {\n",
              "          const element = document.querySelector('#df-f9fedaa6-2732-41c9-9aa0-52948101b024');\n",
              "          const dataTable =\n",
              "            await google.colab.kernel.invokeFunction('convertToInteractive',\n",
              "                                                     [key], {});\n",
              "          if (!dataTable) return;\n",
              "\n",
              "          const docLinkHtml = 'Like what you see? Visit the ' +\n",
              "            '<a target=\"_blank\" href=https://colab.research.google.com/notebooks/data_table.ipynb>data table notebook</a>'\n",
              "            + ' to learn more about interactive tables.';\n",
              "          element.innerHTML = '';\n",
              "          dataTable['output_type'] = 'display_data';\n",
              "          await google.colab.output.renderOutput(dataTable, element);\n",
              "          const docLink = document.createElement('div');\n",
              "          docLink.innerHTML = docLinkHtml;\n",
              "          element.appendChild(docLink);\n",
              "        }\n",
              "      </script>\n",
              "    </div>\n",
              "  </div>\n",
              "  "
            ],
            "text/plain": [
              "   Kaggle_Pass_Id  ...  orig_seq\n",
              "0               1  ...       690\n",
              "1               2  ...        86\n",
              "2               3  ...       861\n",
              "3               4  ...       128\n",
              "4               5  ...       619\n",
              "5               6  ...      1031\n",
              "6               7  ...       202\n",
              "7               8  ...      1097\n",
              "8               9  ...       900\n",
              "9              10  ...       514\n",
              "\n",
              "[10 rows x 16 columns]"
            ]
          },
          "metadata": {},
          "execution_count": 80
        }
      ],
      "source": [
        "df_train.head(10)"
      ]
    },
    {
      "cell_type": "markdown",
      "id": "1773563a",
      "metadata": {
        "id": "1773563a"
      },
      "source": [
        "**Describing data**"
      ]
    },
    {
      "cell_type": "code",
      "execution_count": 81,
      "id": "aeea8bf8",
      "metadata": {
        "colab": {
          "base_uri": "https://localhost:8080/"
        },
        "id": "aeea8bf8",
        "outputId": "6025aa5f-68c1-4111-ad98-1497747743e4"
      },
      "outputs": [
        {
          "output_type": "execute_result",
          "data": {
            "text/plain": [
              "(891, 16)"
            ]
          },
          "metadata": {},
          "execution_count": 81
        }
      ],
      "source": [
        "# Cheking dataset size\n",
        "df_train.shape"
      ]
    },
    {
      "cell_type": "code",
      "execution_count": 82,
      "id": "afdb24da",
      "metadata": {
        "colab": {
          "base_uri": "https://localhost:8080/",
          "height": 300
        },
        "id": "afdb24da",
        "outputId": "009ec199-2367-4cf2-91ab-ca9f200d27e1"
      },
      "outputs": [
        {
          "output_type": "execute_result",
          "data": {
            "text/html": [
              "\n",
              "  <div id=\"df-0dbb65dc-777e-49d0-9471-156d6bde8964\">\n",
              "    <div class=\"colab-df-container\">\n",
              "      <div>\n",
              "<style scoped>\n",
              "    .dataframe tbody tr th:only-of-type {\n",
              "        vertical-align: middle;\n",
              "    }\n",
              "\n",
              "    .dataframe tbody tr th {\n",
              "        vertical-align: top;\n",
              "    }\n",
              "\n",
              "    .dataframe thead th {\n",
              "        text-align: right;\n",
              "    }\n",
              "</style>\n",
              "<table border=\"1\" class=\"dataframe\">\n",
              "  <thead>\n",
              "    <tr style=\"text-align: right;\">\n",
              "      <th></th>\n",
              "      <th>Kaggle_Pass_Id</th>\n",
              "      <th>pclass</th>\n",
              "      <th>survived</th>\n",
              "      <th>age</th>\n",
              "      <th>sibsp</th>\n",
              "      <th>parch</th>\n",
              "      <th>fare</th>\n",
              "      <th>body</th>\n",
              "      <th>orig_seq</th>\n",
              "    </tr>\n",
              "  </thead>\n",
              "  <tbody>\n",
              "    <tr>\n",
              "      <th>count</th>\n",
              "      <td>891.000000</td>\n",
              "      <td>891.000000</td>\n",
              "      <td>891.000000</td>\n",
              "      <td>714.000000</td>\n",
              "      <td>891.000000</td>\n",
              "      <td>891.000000</td>\n",
              "      <td>891.000000</td>\n",
              "      <td>83.000000</td>\n",
              "      <td>891.000000</td>\n",
              "    </tr>\n",
              "    <tr>\n",
              "      <th>mean</th>\n",
              "      <td>446.000000</td>\n",
              "      <td>2.308642</td>\n",
              "      <td>0.383838</td>\n",
              "      <td>29.699113</td>\n",
              "      <td>0.523008</td>\n",
              "      <td>0.381594</td>\n",
              "      <td>32.204208</td>\n",
              "      <td>162.843373</td>\n",
              "      <td>662.304153</td>\n",
              "    </tr>\n",
              "    <tr>\n",
              "      <th>std</th>\n",
              "      <td>257.353842</td>\n",
              "      <td>0.836071</td>\n",
              "      <td>0.486592</td>\n",
              "      <td>14.526507</td>\n",
              "      <td>1.102743</td>\n",
              "      <td>0.806057</td>\n",
              "      <td>49.693429</td>\n",
              "      <td>96.945356</td>\n",
              "      <td>378.282967</td>\n",
              "    </tr>\n",
              "    <tr>\n",
              "      <th>min</th>\n",
              "      <td>1.000000</td>\n",
              "      <td>1.000000</td>\n",
              "      <td>0.000000</td>\n",
              "      <td>0.416700</td>\n",
              "      <td>0.000000</td>\n",
              "      <td>0.000000</td>\n",
              "      <td>0.000000</td>\n",
              "      <td>4.000000</td>\n",
              "      <td>1.000000</td>\n",
              "    </tr>\n",
              "    <tr>\n",
              "      <th>25%</th>\n",
              "      <td>223.500000</td>\n",
              "      <td>2.000000</td>\n",
              "      <td>0.000000</td>\n",
              "      <td>20.125000</td>\n",
              "      <td>0.000000</td>\n",
              "      <td>0.000000</td>\n",
              "      <td>7.910400</td>\n",
              "      <td>73.500000</td>\n",
              "      <td>335.500000</td>\n",
              "    </tr>\n",
              "    <tr>\n",
              "      <th>50%</th>\n",
              "      <td>446.000000</td>\n",
              "      <td>3.000000</td>\n",
              "      <td>0.000000</td>\n",
              "      <td>28.000000</td>\n",
              "      <td>0.000000</td>\n",
              "      <td>0.000000</td>\n",
              "      <td>14.454200</td>\n",
              "      <td>169.000000</td>\n",
              "      <td>666.000000</td>\n",
              "    </tr>\n",
              "    <tr>\n",
              "      <th>75%</th>\n",
              "      <td>668.500000</td>\n",
              "      <td>3.000000</td>\n",
              "      <td>1.000000</td>\n",
              "      <td>38.000000</td>\n",
              "      <td>1.000000</td>\n",
              "      <td>0.000000</td>\n",
              "      <td>31.000000</td>\n",
              "      <td>252.000000</td>\n",
              "      <td>993.500000</td>\n",
              "    </tr>\n",
              "    <tr>\n",
              "      <th>max</th>\n",
              "      <td>891.000000</td>\n",
              "      <td>3.000000</td>\n",
              "      <td>1.000000</td>\n",
              "      <td>80.000000</td>\n",
              "      <td>8.000000</td>\n",
              "      <td>6.000000</td>\n",
              "      <td>512.329200</td>\n",
              "      <td>328.000000</td>\n",
              "      <td>1309.000000</td>\n",
              "    </tr>\n",
              "  </tbody>\n",
              "</table>\n",
              "</div>\n",
              "      <button class=\"colab-df-convert\" onclick=\"convertToInteractive('df-0dbb65dc-777e-49d0-9471-156d6bde8964')\"\n",
              "              title=\"Convert this dataframe to an interactive table.\"\n",
              "              style=\"display:none;\">\n",
              "        \n",
              "  <svg xmlns=\"http://www.w3.org/2000/svg\" height=\"24px\"viewBox=\"0 0 24 24\"\n",
              "       width=\"24px\">\n",
              "    <path d=\"M0 0h24v24H0V0z\" fill=\"none\"/>\n",
              "    <path d=\"M18.56 5.44l.94 2.06.94-2.06 2.06-.94-2.06-.94-.94-2.06-.94 2.06-2.06.94zm-11 1L8.5 8.5l.94-2.06 2.06-.94-2.06-.94L8.5 2.5l-.94 2.06-2.06.94zm10 10l.94 2.06.94-2.06 2.06-.94-2.06-.94-.94-2.06-.94 2.06-2.06.94z\"/><path d=\"M17.41 7.96l-1.37-1.37c-.4-.4-.92-.59-1.43-.59-.52 0-1.04.2-1.43.59L10.3 9.45l-7.72 7.72c-.78.78-.78 2.05 0 2.83L4 21.41c.39.39.9.59 1.41.59.51 0 1.02-.2 1.41-.59l7.78-7.78 2.81-2.81c.8-.78.8-2.07 0-2.86zM5.41 20L4 18.59l7.72-7.72 1.47 1.35L5.41 20z\"/>\n",
              "  </svg>\n",
              "      </button>\n",
              "      \n",
              "  <style>\n",
              "    .colab-df-container {\n",
              "      display:flex;\n",
              "      flex-wrap:wrap;\n",
              "      gap: 12px;\n",
              "    }\n",
              "\n",
              "    .colab-df-convert {\n",
              "      background-color: #E8F0FE;\n",
              "      border: none;\n",
              "      border-radius: 50%;\n",
              "      cursor: pointer;\n",
              "      display: none;\n",
              "      fill: #1967D2;\n",
              "      height: 32px;\n",
              "      padding: 0 0 0 0;\n",
              "      width: 32px;\n",
              "    }\n",
              "\n",
              "    .colab-df-convert:hover {\n",
              "      background-color: #E2EBFA;\n",
              "      box-shadow: 0px 1px 2px rgba(60, 64, 67, 0.3), 0px 1px 3px 1px rgba(60, 64, 67, 0.15);\n",
              "      fill: #174EA6;\n",
              "    }\n",
              "\n",
              "    [theme=dark] .colab-df-convert {\n",
              "      background-color: #3B4455;\n",
              "      fill: #D2E3FC;\n",
              "    }\n",
              "\n",
              "    [theme=dark] .colab-df-convert:hover {\n",
              "      background-color: #434B5C;\n",
              "      box-shadow: 0px 1px 3px 1px rgba(0, 0, 0, 0.15);\n",
              "      filter: drop-shadow(0px 1px 2px rgba(0, 0, 0, 0.3));\n",
              "      fill: #FFFFFF;\n",
              "    }\n",
              "  </style>\n",
              "\n",
              "      <script>\n",
              "        const buttonEl =\n",
              "          document.querySelector('#df-0dbb65dc-777e-49d0-9471-156d6bde8964 button.colab-df-convert');\n",
              "        buttonEl.style.display =\n",
              "          google.colab.kernel.accessAllowed ? 'block' : 'none';\n",
              "\n",
              "        async function convertToInteractive(key) {\n",
              "          const element = document.querySelector('#df-0dbb65dc-777e-49d0-9471-156d6bde8964');\n",
              "          const dataTable =\n",
              "            await google.colab.kernel.invokeFunction('convertToInteractive',\n",
              "                                                     [key], {});\n",
              "          if (!dataTable) return;\n",
              "\n",
              "          const docLinkHtml = 'Like what you see? Visit the ' +\n",
              "            '<a target=\"_blank\" href=https://colab.research.google.com/notebooks/data_table.ipynb>data table notebook</a>'\n",
              "            + ' to learn more about interactive tables.';\n",
              "          element.innerHTML = '';\n",
              "          dataTable['output_type'] = 'display_data';\n",
              "          await google.colab.output.renderOutput(dataTable, element);\n",
              "          const docLink = document.createElement('div');\n",
              "          docLink.innerHTML = docLinkHtml;\n",
              "          element.appendChild(docLink);\n",
              "        }\n",
              "      </script>\n",
              "    </div>\n",
              "  </div>\n",
              "  "
            ],
            "text/plain": [
              "       Kaggle_Pass_Id      pclass  ...        body     orig_seq\n",
              "count      891.000000  891.000000  ...   83.000000   891.000000\n",
              "mean       446.000000    2.308642  ...  162.843373   662.304153\n",
              "std        257.353842    0.836071  ...   96.945356   378.282967\n",
              "min          1.000000    1.000000  ...    4.000000     1.000000\n",
              "25%        223.500000    2.000000  ...   73.500000   335.500000\n",
              "50%        446.000000    3.000000  ...  169.000000   666.000000\n",
              "75%        668.500000    3.000000  ...  252.000000   993.500000\n",
              "max        891.000000    3.000000  ...  328.000000  1309.000000\n",
              "\n",
              "[8 rows x 9 columns]"
            ]
          },
          "metadata": {},
          "execution_count": 82
        }
      ],
      "source": [
        "# Describing dataset\n",
        "df_train.describe()"
      ]
    },
    {
      "cell_type": "code",
      "execution_count": 83,
      "id": "30b42a90",
      "metadata": {
        "colab": {
          "base_uri": "https://localhost:8080/"
        },
        "id": "30b42a90",
        "outputId": "0ec3014b-f112-4fea-acb8-9cffacf00be1"
      },
      "outputs": [
        {
          "output_type": "execute_result",
          "data": {
            "text/plain": [
              "Kaggle_Pass_Id      0\n",
              "pclass              0\n",
              "survived            0\n",
              "name                0\n",
              "sex                 0\n",
              "age               177\n",
              "sibsp               0\n",
              "parch               0\n",
              "ticket              0\n",
              "fare                0\n",
              "cabin             687\n",
              "embarked            2\n",
              "boat              561\n",
              "body              808\n",
              "home.dest         392\n",
              "orig_seq            0\n",
              "dtype: int64"
            ]
          },
          "metadata": {},
          "execution_count": 83
        }
      ],
      "source": [
        "# Checking if exists null values\n",
        "df_train.isnull().sum()"
      ]
    },
    {
      "cell_type": "markdown",
      "id": "01ca65ce",
      "metadata": {
        "id": "01ca65ce"
      },
      "source": [
        "**EDA**"
      ]
    },
    {
      "cell_type": "code",
      "execution_count": 84,
      "id": "f7bf9851",
      "metadata": {
        "colab": {
          "base_uri": "https://localhost:8080/",
          "height": 279
        },
        "id": "f7bf9851",
        "outputId": "29763ebd-5f21-4960-8ad4-6a8f86ed99a9"
      },
      "outputs": [
        {
          "output_type": "display_data",
          "data": {
            "image/png": "[encoded data removed]",
            "text/plain": [
              "<Figure size 432x288 with 1 Axes>"
            ]
          },
          "metadata": {
            "needs_background": "light"
          }
        }
      ],
      "source": [
        "# Checking the data distribution for each class\n",
        "sns.countplot(data=df_train, x='survived');"
      ]
    },
    {
      "cell_type": "code",
      "execution_count": 85,
      "id": "7c124a67",
      "metadata": {
        "colab": {
          "base_uri": "https://localhost:8080/"
        },
        "id": "7c124a67",
        "outputId": "564cd3da-78cf-4b79-d151-b6271c77d9cc"
      },
      "outputs": [
        {
          "output_type": "execute_result",
          "data": {
            "text/plain": [
              "0    549\n",
              "1    342\n",
              "Name: survived, dtype: int64"
            ]
          },
          "metadata": {},
          "execution_count": 85
        }
      ],
      "source": [
        "# Checking the data distribution for each class\n",
        "df_train['survived'].value_counts()"
      ]
    },
    {
      "cell_type": "code",
      "execution_count": 86,
      "id": "bd615ec7",
      "metadata": {
        "colab": {
          "base_uri": "https://localhost:8080/",
          "height": 1000
        },
        "id": "bd615ec7",
        "outputId": "c3ebcaf6-7ddc-472c-803c-be153d3f12fb"
      },
      "outputs": [
        {
          "output_type": "display_data",
          "data": {
            "image/png": "[encoded data removed]",
            "text/plain": [
              "<Figure size 1440x1440 with 9 Axes>"
            ]
          },
          "metadata": {
            "needs_background": "light"
          }
        }
      ],
      "source": [
        "# Checking the dataset\n",
        "df_train.hist(figsize = (20, 20))\n",
        "plt.show()"
      ]
    },
    {
      "cell_type": "code",
      "execution_count": 87,
      "id": "0e3131a6",
      "metadata": {
        "colab": {
          "base_uri": "https://localhost:8080/",
          "height": 565
        },
        "id": "0e3131a6",
        "outputId": "625ee336-f7c9-479a-fd88-f550d9529b36"
      },
      "outputs": [
        {
          "output_type": "execute_result",
          "data": {
            "text/plain": [
              "array([[<matplotlib.axes._subplots.AxesSubplot object at 0x7f183bb45dd0>]],\n",
              "      dtype=object)"
            ]
          },
          "metadata": {},
          "execution_count": 87
        },
        {
          "output_type": "display_data",
          "data": {
            "image/png": "[encoded data removed]",
            "text/plain": [
              "<Figure size 432x288 with 1 Axes>"
            ]
          },
          "metadata": {
            "needs_background": "light"
          }
        },
        {
          "output_type": "display_data",
          "data": {
            "image/png": "[encoded data removed]",
            "text/plain": [
              "<Figure size 432x288 with 1 Axes>"
            ]
          },
          "metadata": {
            "needs_background": "light"
          }
        }
      ],
      "source": [
        "# Deciding what to com with missing values\n",
        "df_train.boxplot(column =['age'],grid = False)\n",
        "df_train.hist(column =['age'],grid = False)"
      ]
    },
    {
      "cell_type": "code",
      "execution_count": 88,
      "id": "31db33d4",
      "metadata": {
        "id": "31db33d4"
      },
      "outputs": [],
      "source": [
        "# Replacing categorical values for numerical\n",
        "df_train['sex'] = df_train['sex'].map({'male': 0,'female': 1})"
      ]
    },
    {
      "cell_type": "markdown",
      "id": "d6ca6244",
      "metadata": {
        "id": "d6ca6244"
      },
      "source": [
        "# Phase 3 - Data Preparation"
      ]
    },
    {
      "cell_type": "code",
      "execution_count": 89,
      "id": "02733f15",
      "metadata": {
        "colab": {
          "base_uri": "https://localhost:8080/"
        },
        "id": "02733f15",
        "outputId": "773b107f-84b7-4387-e4c7-dc052796453e"
      },
      "outputs": [
        {
          "output_type": "execute_result",
          "data": {
            "text/plain": [
              "Kaggle_Pass_Id      0\n",
              "pclass              0\n",
              "survived            0\n",
              "name                0\n",
              "sex                 0\n",
              "age                 0\n",
              "sibsp               0\n",
              "parch               0\n",
              "ticket              0\n",
              "fare                0\n",
              "cabin             687\n",
              "embarked            2\n",
              "boat              561\n",
              "body              808\n",
              "home.dest         392\n",
              "orig_seq            0\n",
              "dtype: int64"
            ]
          },
          "metadata": {},
          "execution_count": 89
        }
      ],
      "source": [
        "# Replacing missing values with mean and checking\n",
        "df_train['age'] = df_train['age'].fillna((df_train['age'].mean()))\n",
        "df_train.isnull().sum()"
      ]
    },
    {
      "cell_type": "code",
      "execution_count": 90,
      "id": "1ffbc68b",
      "metadata": {
        "colab": {
          "base_uri": "https://localhost:8080/",
          "height": 933
        },
        "id": "1ffbc68b",
        "outputId": "3b5c01b2-90ea-43c1-ebd8-2a461462799f"
      },
      "outputs": [
        {
          "output_type": "stream",
          "name": "stderr",
          "text": [
            "/usr/local/lib/python3.7/dist-packages/seaborn/_decorators.py:43: FutureWarning: Pass the following variable as a keyword arg: x. From version 0.12, the only valid positional argument will be `data`, and passing other arguments without an explicit keyword will result in an error or misinterpretation.\n",
            "  FutureWarning\n"
          ]
        },
        {
          "output_type": "display_data",
          "data": {
            "image/png": "[encoded data removed]",
            "text/plain": [
              "<Figure size 432x288 with 1 Axes>"
            ]
          },
          "metadata": {
            "needs_background": "light"
          }
        },
        {
          "output_type": "stream",
          "name": "stderr",
          "text": [
            "/usr/local/lib/python3.7/dist-packages/seaborn/_decorators.py:43: FutureWarning: Pass the following variable as a keyword arg: x. From version 0.12, the only valid positional argument will be `data`, and passing other arguments without an explicit keyword will result in an error or misinterpretation.\n",
            "  FutureWarning\n"
          ]
        },
        {
          "output_type": "display_data",
          "data": {
            "image/png": "[encoded data removed]",
            "text/plain": [
              "<Figure size 432x288 with 1 Axes>"
            ]
          },
          "metadata": {
            "needs_background": "light"
          }
        },
        {
          "output_type": "stream",
          "name": "stderr",
          "text": [
            "/usr/local/lib/python3.7/dist-packages/seaborn/_decorators.py:43: FutureWarning: Pass the following variable as a keyword arg: x. From version 0.12, the only valid positional argument will be `data`, and passing other arguments without an explicit keyword will result in an error or misinterpretation.\n",
            "  FutureWarning\n"
          ]
        },
        {
          "output_type": "display_data",
          "data": {
            "image/png": "[encoded data removed]",
            "text/plain": [
              "<Figure size 432x288 with 1 Axes>"
            ]
          },
          "metadata": {
            "needs_background": "light"
          }
        }
      ],
      "source": [
        "# Generating hypothesis\n",
        "sns.countplot(df_train['pclass'],label=\"survived\")\n",
        "plt.show()\n",
        "sns.countplot(df_train['sex'],label=\"survived\")\n",
        "plt.show()\n",
        "sns.countplot(df_train['fare'],label=\"survived\")\n",
        "plt.show()\n"
      ]
    },
    {
      "cell_type": "code",
      "execution_count": 91,
      "id": "5157f958",
      "metadata": {
        "id": "5157f958"
      },
      "outputs": [],
      "source": [
        "select_train = df_train[[\"age\", \"sex\", \"pclass\", \"fare\"]]"
      ]
    },
    {
      "cell_type": "code",
      "execution_count": 92,
      "id": "dc40788a",
      "metadata": {
        "colab": {
          "base_uri": "https://localhost:8080/",
          "height": 363
        },
        "id": "dc40788a",
        "outputId": "89037350-e858-455a-b955-11e118b9b488"
      },
      "outputs": [
        {
          "output_type": "execute_result",
          "data": {
            "text/html": [
              "\n",
              "  <div id=\"df-e61cd4ab-ff4c-441f-8806-fe9b08a832d2\">\n",
              "    <div class=\"colab-df-container\">\n",
              "      <div>\n",
              "<style scoped>\n",
              "    .dataframe tbody tr th:only-of-type {\n",
              "        vertical-align: middle;\n",
              "    }\n",
              "\n",
              "    .dataframe tbody tr th {\n",
              "        vertical-align: top;\n",
              "    }\n",
              "\n",
              "    .dataframe thead th {\n",
              "        text-align: right;\n",
              "    }\n",
              "</style>\n",
              "<table border=\"1\" class=\"dataframe\">\n",
              "  <thead>\n",
              "    <tr style=\"text-align: right;\">\n",
              "      <th></th>\n",
              "      <th>age</th>\n",
              "      <th>sex</th>\n",
              "      <th>pclass</th>\n",
              "      <th>fare</th>\n",
              "    </tr>\n",
              "  </thead>\n",
              "  <tbody>\n",
              "    <tr>\n",
              "      <th>0</th>\n",
              "      <td>22.000000</td>\n",
              "      <td>0</td>\n",
              "      <td>3</td>\n",
              "      <td>7.2500</td>\n",
              "    </tr>\n",
              "    <tr>\n",
              "      <th>1</th>\n",
              "      <td>38.000000</td>\n",
              "      <td>1</td>\n",
              "      <td>1</td>\n",
              "      <td>71.2833</td>\n",
              "    </tr>\n",
              "    <tr>\n",
              "      <th>2</th>\n",
              "      <td>26.000000</td>\n",
              "      <td>1</td>\n",
              "      <td>3</td>\n",
              "      <td>7.9250</td>\n",
              "    </tr>\n",
              "    <tr>\n",
              "      <th>3</th>\n",
              "      <td>35.000000</td>\n",
              "      <td>1</td>\n",
              "      <td>1</td>\n",
              "      <td>53.1000</td>\n",
              "    </tr>\n",
              "    <tr>\n",
              "      <th>4</th>\n",
              "      <td>35.000000</td>\n",
              "      <td>0</td>\n",
              "      <td>3</td>\n",
              "      <td>8.0500</td>\n",
              "    </tr>\n",
              "    <tr>\n",
              "      <th>5</th>\n",
              "      <td>29.699113</td>\n",
              "      <td>0</td>\n",
              "      <td>3</td>\n",
              "      <td>8.4583</td>\n",
              "    </tr>\n",
              "    <tr>\n",
              "      <th>6</th>\n",
              "      <td>54.000000</td>\n",
              "      <td>0</td>\n",
              "      <td>1</td>\n",
              "      <td>51.8625</td>\n",
              "    </tr>\n",
              "    <tr>\n",
              "      <th>7</th>\n",
              "      <td>2.000000</td>\n",
              "      <td>0</td>\n",
              "      <td>3</td>\n",
              "      <td>21.0750</td>\n",
              "    </tr>\n",
              "    <tr>\n",
              "      <th>8</th>\n",
              "      <td>27.000000</td>\n",
              "      <td>1</td>\n",
              "      <td>3</td>\n",
              "      <td>11.1333</td>\n",
              "    </tr>\n",
              "    <tr>\n",
              "      <th>9</th>\n",
              "      <td>14.000000</td>\n",
              "      <td>1</td>\n",
              "      <td>2</td>\n",
              "      <td>30.0708</td>\n",
              "    </tr>\n",
              "  </tbody>\n",
              "</table>\n",
              "</div>\n",
              "      <button class=\"colab-df-convert\" onclick=\"convertToInteractive('df-e61cd4ab-ff4c-441f-8806-fe9b08a832d2')\"\n",
              "              title=\"Convert this dataframe to an interactive table.\"\n",
              "              style=\"display:none;\">\n",
              "        \n",
              "  <svg xmlns=\"http://www.w3.org/2000/svg\" height=\"24px\"viewBox=\"0 0 24 24\"\n",
              "       width=\"24px\">\n",
              "    <path d=\"M0 0h24v24H0V0z\" fill=\"none\"/>\n",
              "    <path d=\"M18.56 5.44l.94 2.06.94-2.06 2.06-.94-2.06-.94-.94-2.06-.94 2.06-2.06.94zm-11 1L8.5 8.5l.94-2.06 2.06-.94-2.06-.94L8.5 2.5l-.94 2.06-2.06.94zm10 10l.94 2.06.94-2.06 2.06-.94-2.06-.94-.94-2.06-.94 2.06-2.06.94z\"/><path d=\"M17.41 7.96l-1.37-1.37c-.4-.4-.92-.59-1.43-.59-.52 0-1.04.2-1.43.59L10.3 9.45l-7.72 7.72c-.78.78-.78 2.05 0 2.83L4 21.41c.39.39.9.59 1.41.59.51 0 1.02-.2 1.41-.59l7.78-7.78 2.81-2.81c.8-.78.8-2.07 0-2.86zM5.41 20L4 18.59l7.72-7.72 1.47 1.35L5.41 20z\"/>\n",
              "  </svg>\n",
              "      </button>\n",
              "      \n",
              "  <style>\n",
              "    .colab-df-container {\n",
              "      display:flex;\n",
              "      flex-wrap:wrap;\n",
              "      gap: 12px;\n",
              "    }\n",
              "\n",
              "    .colab-df-convert {\n",
              "      background-color: #E8F0FE;\n",
              "      border: none;\n",
              "      border-radius: 50%;\n",
              "      cursor: pointer;\n",
              "      display: none;\n",
              "      fill: #1967D2;\n",
              "      height: 32px;\n",
              "      padding: 0 0 0 0;\n",
              "      width: 32px;\n",
              "    }\n",
              "\n",
              "    .colab-df-convert:hover {\n",
              "      background-color: #E2EBFA;\n",
              "      box-shadow: 0px 1px 2px rgba(60, 64, 67, 0.3), 0px 1px 3px 1px rgba(60, 64, 67, 0.15);\n",
              "      fill: #174EA6;\n",
              "    }\n",
              "\n",
              "    [theme=dark] .colab-df-convert {\n",
              "      background-color: #3B4455;\n",
              "      fill: #D2E3FC;\n",
              "    }\n",
              "\n",
              "    [theme=dark] .colab-df-convert:hover {\n",
              "      background-color: #434B5C;\n",
              "      box-shadow: 0px 1px 3px 1px rgba(0, 0, 0, 0.15);\n",
              "      filter: drop-shadow(0px 1px 2px rgba(0, 0, 0, 0.3));\n",
              "      fill: #FFFFFF;\n",
              "    }\n",
              "  </style>\n",
              "\n",
              "      <script>\n",
              "        const buttonEl =\n",
              "          document.querySelector('#df-e61cd4ab-ff4c-441f-8806-fe9b08a832d2 button.colab-df-convert');\n",
              "        buttonEl.style.display =\n",
              "          google.colab.kernel.accessAllowed ? 'block' : 'none';\n",
              "\n",
              "        async function convertToInteractive(key) {\n",
              "          const element = document.querySelector('#df-e61cd4ab-ff4c-441f-8806-fe9b08a832d2');\n",
              "          const dataTable =\n",
              "            await google.colab.kernel.invokeFunction('convertToInteractive',\n",
              "                                                     [key], {});\n",
              "          if (!dataTable) return;\n",
              "\n",
              "          const docLinkHtml = 'Like what you see? Visit the ' +\n",
              "            '<a target=\"_blank\" href=https://colab.research.google.com/notebooks/data_table.ipynb>data table notebook</a>'\n",
              "            + ' to learn more about interactive tables.';\n",
              "          element.innerHTML = '';\n",
              "          dataTable['output_type'] = 'display_data';\n",
              "          await google.colab.output.renderOutput(dataTable, element);\n",
              "          const docLink = document.createElement('div');\n",
              "          docLink.innerHTML = docLinkHtml;\n",
              "          element.appendChild(docLink);\n",
              "        }\n",
              "      </script>\n",
              "    </div>\n",
              "  </div>\n",
              "  "
            ],
            "text/plain": [
              "         age  sex  pclass     fare\n",
              "0  22.000000    0       3   7.2500\n",
              "1  38.000000    1       1  71.2833\n",
              "2  26.000000    1       3   7.9250\n",
              "3  35.000000    1       1  53.1000\n",
              "4  35.000000    0       3   8.0500\n",
              "5  29.699113    0       3   8.4583\n",
              "6  54.000000    0       1  51.8625\n",
              "7   2.000000    0       3  21.0750\n",
              "8  27.000000    1       3  11.1333\n",
              "9  14.000000    1       2  30.0708"
            ]
          },
          "metadata": {},
          "execution_count": 92
        }
      ],
      "source": [
        "select_train.head(10)"
      ]
    },
    {
      "cell_type": "code",
      "source": [
        "x = select_train\n",
        "y = df_train[\"survived\"]\n",
        "print(x)\n",
        "print(y)"
      ],
      "metadata": {
        "colab": {
          "base_uri": "https://localhost:8080/"
        },
        "id": "HtwZ3hz6TCTU",
        "outputId": "d5d2d934-c23e-43b8-c65e-56963066b042"
      },
      "id": "HtwZ3hz6TCTU",
      "execution_count": 93,
      "outputs": [
        {
          "output_type": "stream",
          "name": "stdout",
          "text": [
            "           age  sex  pclass     fare\n",
            "0    22.000000    0       3   7.2500\n",
            "1    38.000000    1       1  71.2833\n",
            "2    26.000000    1       3   7.9250\n",
            "3    35.000000    1       1  53.1000\n",
            "4    35.000000    0       3   8.0500\n",
            "..         ...  ...     ...      ...\n",
            "886  27.000000    0       2  13.0000\n",
            "887  19.000000    1       1  30.0000\n",
            "888  29.699113    1       3  23.4500\n",
            "889  26.000000    0       1  30.0000\n",
            "890  32.000000    0       3   7.7500\n",
            "\n",
            "[891 rows x 4 columns]\n",
            "0      0\n",
            "1      1\n",
            "2      1\n",
            "3      1\n",
            "4      0\n",
            "      ..\n",
            "886    0\n",
            "887    1\n",
            "888    0\n",
            "889    1\n",
            "890    0\n",
            "Name: survived, Length: 891, dtype: int64\n"
          ]
        }
      ]
    },
    {
      "cell_type": "markdown",
      "source": [
        "Split Train & Test"
      ],
      "metadata": {
        "id": "Psq7ucaoTla8"
      },
      "id": "Psq7ucaoTla8"
    },
    {
      "cell_type": "code",
      "source": [
        "from sklearn.model_selection import train_test_split"
      ],
      "metadata": {
        "id": "LwUfwPlFRE4L"
      },
      "id": "LwUfwPlFRE4L",
      "execution_count": 94,
      "outputs": []
    },
    {
      "cell_type": "code",
      "source": [
        "X_train, X_test, Y_train, Y_test = train_test_split(x, y, test_size=0.2, random_state=0)"
      ],
      "metadata": {
        "id": "_G2dQxwPRPgw"
      },
      "id": "_G2dQxwPRPgw",
      "execution_count": 95,
      "outputs": []
    },
    {
      "cell_type": "code",
      "source": [
        "print(X_train)\n",
        "print(Y_train)\n",
        "print(X_test)\n",
        "print(Y_test)\n"
      ],
      "metadata": {
        "colab": {
          "base_uri": "https://localhost:8080/"
        },
        "id": "AzT9trKHT5hK",
        "outputId": "a57b555d-4e33-4b2f-8e87-2272657df739"
      },
      "id": "AzT9trKHT5hK",
      "execution_count": 96,
      "outputs": [
        {
          "output_type": "stream",
          "name": "stdout",
          "text": [
            "           age  sex  pclass     fare\n",
            "140  29.699113    1       3  15.2458\n",
            "439  31.000000    0       2  10.5000\n",
            "817  31.000000    0       2  37.0042\n",
            "378  20.000000    0       3   4.0125\n",
            "491  21.000000    0       3   7.2500\n",
            "..         ...  ...     ...      ...\n",
            "835  39.000000    1       1  83.1583\n",
            "192  19.000000    1       3   7.8542\n",
            "629  29.699113    0       3   7.7333\n",
            "559  36.000000    1       3  17.4000\n",
            "684  60.000000    0       2  39.0000\n",
            "\n",
            "[712 rows x 4 columns]\n",
            "140    0\n",
            "439    0\n",
            "817    0\n",
            "378    0\n",
            "491    0\n",
            "      ..\n",
            "835    1\n",
            "192    1\n",
            "629    0\n",
            "559    1\n",
            "684    0\n",
            "Name: survived, Length: 712, dtype: int64\n",
            "           age  sex  pclass      fare\n",
            "495  29.699113    0       3   14.4583\n",
            "648  29.699113    0       3    7.5500\n",
            "278   7.000000    0       3   29.1250\n",
            "31   29.699113    1       1  146.5208\n",
            "255  29.000000    1       3   15.2458\n",
            "..         ...  ...     ...       ...\n",
            "780  13.000000    1       3    7.2292\n",
            "837  29.699113    0       3    8.0500\n",
            "215  31.000000    1       1  113.2750\n",
            "833  23.000000    0       3    7.8542\n",
            "372  19.000000    0       3    8.0500\n",
            "\n",
            "[179 rows x 4 columns]\n",
            "495    0\n",
            "648    0\n",
            "278    0\n",
            "31     1\n",
            "255    1\n",
            "      ..\n",
            "780    1\n",
            "837    0\n",
            "215    1\n",
            "833    0\n",
            "372    0\n",
            "Name: survived, Length: 179, dtype: int64\n"
          ]
        }
      ]
    },
    {
      "cell_type": "markdown",
      "source": [
        "Scalling dataset"
      ],
      "metadata": {
        "id": "1vWDkxVSaipQ"
      },
      "id": "1vWDkxVSaipQ"
    },
    {
      "cell_type": "code",
      "source": [
        "from sklearn.preprocessing import StandardScaler "
      ],
      "metadata": {
        "id": "mLiDe5ezalZJ"
      },
      "id": "mLiDe5ezalZJ",
      "execution_count": 97,
      "outputs": []
    },
    {
      "cell_type": "code",
      "source": [
        "sc_X = StandardScaler()\n",
        "X_train = sc_X.fit_transform(X_train)\n",
        "X_test = sc_X.transform(X_test)"
      ],
      "metadata": {
        "id": "Etc8jVk9a4p4"
      },
      "id": "Etc8jVk9a4p4",
      "execution_count": 98,
      "outputs": []
    },
    {
      "cell_type": "markdown",
      "id": "6f7b99a8",
      "metadata": {
        "id": "6f7b99a8"
      },
      "source": [
        "# Phase 4 - Modeling"
      ]
    },
    {
      "cell_type": "markdown",
      "source": [
        "Importimg Decision Tree Libraries"
      ],
      "metadata": {
        "id": "GXKCAt1ATLnU"
      },
      "id": "GXKCAt1ATLnU"
    },
    {
      "cell_type": "code",
      "execution_count": 99,
      "id": "afea5df8",
      "metadata": {
        "id": "afea5df8"
      },
      "outputs": [],
      "source": [
        "from sklearn.tree import DecisionTreeClassifier"
      ]
    },
    {
      "cell_type": "code",
      "execution_count": 100,
      "id": "1e54bcbb",
      "metadata": {
        "id": "1e54bcbb"
      },
      "outputs": [],
      "source": [
        "from sklearn import tree\n"
      ]
    },
    {
      "cell_type": "code",
      "source": [
        "from sklearn.metrics import classification_report, confusion_matrix#for visualizing tree \n"
      ],
      "metadata": {
        "id": "GiGrwsSaYhoU"
      },
      "id": "GiGrwsSaYhoU",
      "execution_count": 101,
      "outputs": []
    },
    {
      "cell_type": "code",
      "source": [
        "from sklearn.tree import plot_tree"
      ],
      "metadata": {
        "id": "S0NgOHi4YiOf"
      },
      "id": "S0NgOHi4YiOf",
      "execution_count": 102,
      "outputs": []
    },
    {
      "cell_type": "code",
      "source": [
        "import pydotplus"
      ],
      "metadata": {
        "id": "gGE3HnfkW6zk"
      },
      "id": "gGE3HnfkW6zk",
      "execution_count": 103,
      "outputs": []
    },
    {
      "cell_type": "code",
      "source": [
        "import matplotlib.pyplot as plt"
      ],
      "metadata": {
        "id": "0Z7VKpsqW7mf"
      },
      "id": "0Z7VKpsqW7mf",
      "execution_count": 104,
      "outputs": []
    },
    {
      "cell_type": "code",
      "source": [
        "import matplotlib.image as pltimg"
      ],
      "metadata": {
        "id": "mzpgp35sW9rE"
      },
      "id": "mzpgp35sW9rE",
      "execution_count": 105,
      "outputs": []
    },
    {
      "cell_type": "markdown",
      "source": [
        "Creating Tree"
      ],
      "metadata": {
        "id": "a3j5K6LYV5Qr"
      },
      "id": "a3j5K6LYV5Qr"
    },
    {
      "cell_type": "code",
      "execution_count": 106,
      "id": "68f5f045",
      "metadata": {
        "id": "68f5f045"
      },
      "outputs": [],
      "source": [
        "dtree = DecisionTreeClassifier()\n",
        "dtree = dtree.fit(X_train, Y_train)\n"
      ]
    },
    {
      "cell_type": "markdown",
      "source": [
        "Visualizing Tree"
      ],
      "metadata": {
        "id": "LTVcBz6iV-KN"
      },
      "id": "LTVcBz6iV-KN"
    },
    {
      "cell_type": "code",
      "source": [
        "features = ['Age', 'Sex', 'PClass', 'Faire']\n",
        "data = tree.export_graphviz(dtree, out_file=None, feature_names=features)\n",
        "graph = pydotplus.graph_from_dot_data(data)\n",
        "graph.write_png('mydecisiontree.png')\n",
        "\n",
        "img=pltimg.imread('mydecisiontree.png')\n",
        "imgplot = plt.imshow(img)\n",
        "plt.show()"
      ],
      "metadata": {
        "colab": {
          "base_uri": "https://localhost:8080/",
          "height": 171
        },
        "id": "4X3YGxQLWBbt",
        "outputId": "0557137d-8e1b-4b0e-d45b-fd38452caae0"
      },
      "id": "4X3YGxQLWBbt",
      "execution_count": 107,
      "outputs": [
        {
          "output_type": "display_data",
          "data": {
            "image/png": "[encoded data removed]",
            "text/plain": [
              "<Figure size 432x288 with 1 Axes>"
            ]
          },
          "metadata": {
            "needs_background": "light"
          }
        }
      ]
    },
    {
      "cell_type": "code",
      "source": [
        "dec_tree = plot_tree(decision_tree=dtree, feature_names = select_train.columns, \n",
        "                     class_names =[\"Death\", \"Survival\"] , filled = True , precision = 4, rounded = True)"
      ],
      "metadata": {
        "colab": {
          "base_uri": "https://localhost:8080/",
          "height": 248
        },
        "id": "Ba621WsXZBao",
        "outputId": "8119fb57-0468-47fe-d7c2-76eb88303bd0"
      },
      "id": "Ba621WsXZBao",
      "execution_count": 108,
      "outputs": [
        {
          "output_type": "display_data",
          "data": {
            "image/png": "[encoded data removed]",
            "text/plain": [
              "<Figure size 432x288 with 1 Axes>"
            ]
          },
          "metadata": {
            "needs_background": "light"
          }
        }
      ]
    },
    {
      "cell_type": "markdown",
      "source": [
        "Predicting the class"
      ],
      "metadata": {
        "id": "hzibmXugXyrK"
      },
      "id": "hzibmXugXyrK"
    },
    {
      "cell_type": "code",
      "source": [
        "y_pred = dtree.predict(X_test)"
      ],
      "metadata": {
        "id": "oOXI47YLX5ae"
      },
      "id": "oOXI47YLX5ae",
      "execution_count": 109,
      "outputs": []
    },
    {
      "cell_type": "markdown",
      "id": "f5c41ddb",
      "metadata": {
        "id": "f5c41ddb"
      },
      "source": [
        "# Phase 5 - Evaluation"
      ]
    },
    {
      "cell_type": "code",
      "source": [
        "print(\"Classification report - \\n\", classification_report(Y_test,y_pred))"
      ],
      "metadata": {
        "colab": {
          "base_uri": "https://localhost:8080/"
        },
        "id": "PakMX46ZZ8tU",
        "outputId": "dd237504-9e79-444c-88a6-e3828ecbc11e"
      },
      "id": "PakMX46ZZ8tU",
      "execution_count": 112,
      "outputs": [
        {
          "output_type": "stream",
          "name": "stdout",
          "text": [
            "Classification report - \n",
            "               precision    recall  f1-score   support\n",
            "\n",
            "           0       0.82      0.87      0.85       110\n",
            "           1       0.77      0.70      0.73        69\n",
            "\n",
            "    accuracy                           0.80       179\n",
            "   macro avg       0.80      0.78      0.79       179\n",
            "weighted avg       0.80      0.80      0.80       179\n",
            "\n"
          ]
        }
      ]
    },
    {
      "cell_type": "code",
      "source": [
        "print('Accuracy of Decision Tree classifier on training set: {:.2f}'\n",
        "     .format(dtree.score(X_train, Y_train)))"
      ],
      "metadata": {
        "colab": {
          "base_uri": "https://localhost:8080/"
        },
        "id": "DZKW4IGTZuJt",
        "outputId": "91994b8e-f4d5-4c34-ea6a-173cb00b47c4"
      },
      "id": "DZKW4IGTZuJt",
      "execution_count": 111,
      "outputs": [
        {
          "output_type": "stream",
          "name": "stdout",
          "text": [
            "Accuracy of Decision Tree classifier on training set: 0.98\n"
          ]
        }
      ]
    },
    {
      "cell_type": "code",
      "execution_count": 113,
      "id": "ab30e687",
      "metadata": {
        "colab": {
          "base_uri": "https://localhost:8080/"
        },
        "id": "ab30e687",
        "outputId": "1b0991d8-8c61-47f7-8196-8c71d16f469d"
      },
      "outputs": [
        {
          "output_type": "stream",
          "name": "stdout",
          "text": [
            "Accuracy of Decision Tree classifier on test: 0.80\n"
          ]
        }
      ],
      "source": [
        "print('Accuracy of Decision Tree classifier on test: {:.2f}'\n",
        "     .format(dtree.score(X_test, Y_test)))"
      ]
    },
    {
      "cell_type": "code",
      "source": [
        "cm = confusion_matrix(Y_test, y_pred)"
      ],
      "metadata": {
        "id": "nkaKZWCAdMcR"
      },
      "id": "nkaKZWCAdMcR",
      "execution_count": 115,
      "outputs": []
    },
    {
      "cell_type": "code",
      "source": [
        "confusion_matrix = pd.crosstab(Y_test, y_pred, rownames=['Actual'], colnames=['Predicted'])\n",
        "sns.heatmap(confusion_matrix, annot=True)\n",
        "plt.show()"
      ],
      "metadata": {
        "colab": {
          "base_uri": "https://localhost:8080/",
          "height": 279
        },
        "id": "wyR-dwIab1u0",
        "outputId": "0a296725-8b14-47e8-d7ed-de6a5c210c9f"
      },
      "id": "wyR-dwIab1u0",
      "execution_count": 117,
      "outputs": [
        {
          "output_type": "display_data",
          "data": {
            "image/png": "[encoded data removed]",
            "text/plain": [
              "<Figure size 432x288 with 2 Axes>"
            ]
          },
          "metadata": {
            "needs_background": "light"
          }
        }
      ]
    },
    {
      "cell_type": "markdown",
      "source": [
        "Evaluation Metrics"
      ],
      "metadata": {
        "id": "sKF348dSiN5e"
      },
      "id": "sKF348dSiN5e"
    },
    {
      "cell_type": "markdown",
      "source": [
        "![Evaluation-metrics.png](data:image/png;base64,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)"
      ],
      "metadata": {
        "id": "hvowra77i6Ak"
      },
      "id": "hvowra77i6Ak"
    },
    {
      "cell_type": "markdown",
      "source": [
        "Confusion Matrix Schema"
      ],
      "metadata": {
        "id": "Ppbw_ftkiBAF"
      },
      "id": "Ppbw_ftkiBAF"
    },
    {
      "cell_type": "markdown",
      "source": [
        "![Confusion Matrix 2.png](data:image/png;base64,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)"
      ],
      "metadata": {
        "id": "HnYqSpt9h6Vm"
      },
      "id": "HnYqSpt9h6Vm"
    }
  ],
  "metadata": {
    "kernelspec": {
      "display_name": "Python 3 (ipykernel)",
      "language": "python",
      "name": "python3"
    },
    "language_info": {
      "codemirror_mode": {
        "name": "ipython",
        "version": 3
      },
      "file_extension": ".py",
      "mimetype": "text/x-python",
      "name": "python",
      "nbconvert_exporter": "python",
      "pygments_lexer": "ipython3",
      "version": "3.9.7"
    },
    "colab": {
      "name": "C___Users__Márcia Laptop__Documents__I2A2__Desafio 2.ipynb",
      "provenance": [],
      "collapsed_sections": [
        "e77ea12c",
        "01ca65ce",
        "d6ca6244",
        "6f7b99a8",
        "f5c41ddb"
      ]
    }
  },
  "nbformat": 4,
  "nbformat_minor": 5
}